{
  "cells": [
    {
      "cell_type": "markdown",
      "metadata": {
        "id": "SaWfEmZWe4sO"
      },
      "source": [
        "# Analysis"
      ]
    },
    {
      "cell_type": "markdown",
      "metadata": {
        "id": "PUZ8-d1Ee7r4"
      },
      "source": [
        "## Logical Analysis"
      ]
    },
    {
      "cell_type": "code",
      "execution_count": null,
      "metadata": {
        "colab": {
          "base_uri": "https://localhost:8080/"
        },
        "id": "1RCs4pcBXmYn",
        "outputId": "6a608ce3-3a9e-4c58-dc4b-7af72b940626"
      },
      "outputs": [
        {
          "name": "stdout",
          "output_type": "stream",
          "text": [
            "1647020726677939641600000000000000000000\n",
            "340282366920938463463374607431768211456\n"
          ]
        }
      ],
      "source": [
        "import math\n",
        "\n",
        "capital_letters = 26\n",
        "small_letters = 26\n",
        "digits = 10\n",
        "special_characters = 33\n",
        "all_characters = 95\n",
        "l = 13\n",
        "passphrase = (math.comb(l,4)) * capital_letters * small_letters * digits * special_characters * all_characters ** (l-4)\n",
        "\n",
        "mnemonic_BIP39 = 2048\n",
        "unique_biometric = 8000000000\n",
        "\n",
        "possible_combinations = passphrase * mnemonic_BIP39 * unique_biometric\n",
        "print(possible_combinations)\n",
        "print(2**128)"
      ]
    }
  ],
  "metadata": {
    "accelerator": "TPU",
    "colab": {
      "gpuType": "V28",
      "provenance": []
    },
    "kernelspec": {
      "display_name": "Python 3",
      "name": "python3"
    },
    "language_info": {
      "name": "python"
    }
  },
  "nbformat": 4,
  "nbformat_minor": 0
}
